{
 "cells": [
  {
   "cell_type": "code",
   "execution_count": 1,
   "metadata": {},
   "outputs": [],
   "source": [
    "import json\n",
    "from pprint import pprint\n",
    "\n",
    "from collections import defaultdict"
   ]
  },
  {
   "cell_type": "code",
   "execution_count": 4,
   "metadata": {},
   "outputs": [],
   "source": [
    "with open('transcript-15528094.json') as f:\n",
    "    data = json.load(f)\n",
    "    \n",
    "id_to_name = defaultdict(str)\n",
    "\n",
    "for item in data:\n",
    "    if item['text'] != None: \n",
    "        \n",
    "        user_id = item['user_id']\n",
    "        # ignore system and calendar messages\n",
    "        if user_id == 'system' or user_id == 'calendar':\n",
    "            continue\n",
    "        \n",
    "        # potentially add user to id_to_name dict\n",
    "        if user_id not in id_to_name:\n",
    "            id_to_name[user_id] = item['name']"
   ]
  },
  {
   "cell_type": "code",
   "execution_count": 8,
   "metadata": {},
   "outputs": [],
   "source": [
    "name_outfile = open(\"id_to_name.txt\", \"w\")\n",
    "for id_num in id_to_name:\n",
    "    name_outfile.write(id_num + \"\\t\" + id_to_name[id_num] + \"\\n\")\n",
    "name_outfile.close()\n",
    "#pprint(id_to_name)"
   ]
  },
  {
   "cell_type": "code",
   "execution_count": 10,
   "metadata": {
    "scrolled": true
   },
   "outputs": [
    {
     "name": "stdout",
     "output_type": "stream",
     "text": [
      "defaultdict(<class 'str'>,\n",
      "            {'10820250': 'Josh Shoulders',\n",
      "             '13207027': 'Jeb',\n",
      "             '14137183': 'Paul List',\n",
      "             '18559389': 'Aspasia',\n",
      "             '18559680': 'Eric Baxley',\n",
      "             '19458971': 'Adam Groth',\n",
      "             '20963086': 'Kelly',\n",
      "             '21235741': 'Jamie Mayson',\n",
      "             '21235813': 'Nick Quan',\n",
      "             '21241679': 'Roommate Andrew Madigan',\n",
      "             '21349729': 'Sammy Ciricillo',\n",
      "             '21755924': 'Bennett Marra',\n",
      "             '22207515': 'Charissa',\n",
      "             '22276941': 'Sara Koallam',\n",
      "             '23354087': 'Moe',\n",
      "             '24927292': 'Now Just Treevor',\n",
      "             '26498711': 'Nabihah',\n",
      "             '26508082': 'Justin Stombler',\n",
      "             '26514517': 'Liz 2',\n",
      "             '26601370': 'Michael Husmann',\n",
      "             '270093': 'Alex',\n",
      "             '270280': 'test',\n",
      "             '27380802': 'Joelle Strom',\n",
      "             '27546073': 'William Edwards',\n",
      "             '28068527': 'Sam Zaritsky',\n",
      "             '28222063': 'Angela Marie Rogers',\n",
      "             '28880161': 'Carter',\n",
      "             '29652195': 'Noemi Glaeser',\n",
      "             '29666163': 'Matthew Clapp',\n",
      "             '29747722': 'James Coman',\n",
      "             '29750591': 'Tyler',\n",
      "             '29775461': 'Noemie Iniguez',\n",
      "             '29775466': 'Lauren Strothers',\n",
      "             '29818898': 'Thien',\n",
      "             '29846726': 'Ian',\n",
      "             '45033570': 'Peter Tran',\n",
      "             '46185459': 'Zo',\n",
      "             '51427894': 'No-emi'})\n"
     ]
    }
   ],
   "source": [
    "pprint(id_to_name)"
   ]
  },
  {
   "cell_type": "code",
   "execution_count": 23,
   "metadata": {},
   "outputs": [
    {
     "name": "stdout",
     "output_type": "stream",
     "text": [
      "Lauren Strothers\n"
     ]
    }
   ],
   "source": [
    "print(id_to_name['29775466'])"
   ]
  },
  {
   "cell_type": "code",
   "execution_count": 6,
   "metadata": {},
   "outputs": [],
   "source": [
    "fake_name = defaultdict(str)\n",
    "fake_name = {'10820250': 'Jack',\n",
    "             '13207027': 'John',\n",
    "             '14137183': 'Peter',\n",
    "             '18559389': 'Anna',\n",
    "             '18559680': 'Ethan',\n",
    "             '19458971': 'Alex',\n",
    "             '20963086': 'Kylie',\n",
    "             '21235741': 'Jim',\n",
    "             '21235813': 'Nathan',\n",
    "             '21241679': 'Aaron',\n",
    "             '21349729': 'Sarah',\n",
    "             '21755924': 'Bob',\n",
    "             '22207515': 'Claire',\n",
    "             '22276941': 'Sally',\n",
    "             '23354087': 'Mike',\n",
    "             '24927292': 'Tim',\n",
    "             '26498711': 'Nina',\n",
    "             '26508082': 'Jacob',\n",
    "             '26514517': 'Lisa',\n",
    "             '26601370': 'Mitch',\n",
    "             '270093': 'Alan',\n",
    "             '270280': 'Tom',\n",
    "             '27380802': 'Jill',\n",
    "             '27546073': 'Walter',\n",
    "             '28068527': 'Simon',\n",
    "             '28222063': 'Annie',\n",
    "             '28880161': 'Chris',\n",
    "             '29652195': 'Nancy',\n",
    "             '29666163': 'Michael',\n",
    "             '29747722': 'Jason',\n",
    "             '29750591': 'Trey',\n",
    "             '29775461': 'Nicole',\n",
    "             '29775466': 'Liza',\n",
    "             '29818898': 'Thomas',\n",
    "             '29846726': 'Isaac',\n",
    "             '45033570': 'Patrick',\n",
    "             '46185459': 'Zo',\n",
    "             '51427894': 'Natalie'}"
   ]
  },
  {
   "cell_type": "code",
   "execution_count": 35,
   "metadata": {},
   "outputs": [
    {
     "name": "stdout",
     "output_type": "stream",
     "text": [
      "18559389\n",
      "270280\n",
      "29747722\n",
      "45033570\n",
      "51427894\n",
      "21235741\n"
     ]
    }
   ],
   "source": [
    "fakenames_left = [\"Anna\", \"Tom\", \"Jason\", \"Patrick\", \"Natalie\"]\n",
    "for name in fakenames_left:\n",
    "    print(list(fake_name.keys())[list(fake_name.values()).index(name)])\n",
    "#print(fake_name['21235741'])"
   ]
  },
  {
   "cell_type": "code",
   "execution_count": 9,
   "metadata": {},
   "outputs": [],
   "source": [
    "fakename_file = open(\"fake_name.txt\", \"w\")\n",
    "for id_num in fake_name:\n",
    "    fakename_file.write(id_num + \"\\t\" + fake_name[id_num] + \"\\n\")\n",
    "fakename_file.close()\n",
    "#pprint(id_to_name)"
   ]
  },
  {
   "cell_type": "code",
   "execution_count": 27,
   "metadata": {},
   "outputs": [
    {
     "name": "stdout",
     "output_type": "stream",
     "text": [
      "{'10820250': '7.870967741935484',\n",
      " '18559680': '7.81063321385902',\n",
      " '19458971': '8.269116775340843',\n",
      " '20963086': '8.142857142857142',\n",
      " '21235813': '8.758374011109241',\n",
      " '21755924': '7.85',\n",
      " '22207515': '9.736842105263158',\n",
      " '22276941': '8.40952380952381',\n",
      " '23354087': '9.5',\n",
      " '24927292': '9.28',\n",
      " '26498711': '8.027397260273972',\n",
      " '26508082': '8.060880195599022',\n",
      " '26601370': '8.8',\n",
      " '270093': '6.833333333333333',\n",
      " '27380802': '9.045096056622851',\n",
      " '27546073': '8.532754880694144',\n",
      " '28068527': '7.435726210350584',\n",
      " '28222063': '8.057856465380967',\n",
      " '28880161': '7.84',\n",
      " '29652195': '8.20948960713897',\n",
      " '29750591': '7.522760646108663',\n",
      " '29818898': '9.176191886289606',\n",
      " '29846726': '7.620658949243099',\n",
      " '46185459': '7.3',\n",
      " '51427894': '9.2'}\n"
     ]
    }
   ],
   "source": [
    "results = open(\"nohup.out\", \"r\")\n",
    "average_depth = defaultdict(float)\n",
    "\n",
    "# first 2 lines are warnings\n",
    "results.readline()\n",
    "results.readline()\n",
    "while True:\n",
    "    line1 = results.readline().strip()\n",
    "    if line1 == \"29775461\": # last user\n",
    "        break\n",
    "    line2 = results.readline().strip()\n",
    "    if not line2:\n",
    "        break\n",
    "    average_depth[line1] = line2\n",
    "    \n",
    "pprint(dict(average_depth))"
   ]
  },
  {
   "cell_type": "code",
   "execution_count": 28,
   "metadata": {},
   "outputs": [
    {
     "name": "stdout",
     "output_type": "stream",
     "text": [
      "Claire & 9.736842105263158 \\\\\n",
      "Mike & 9.5 \\\\\n",
      "Tim & 9.28 \\\\\n",
      "Natalie & 9.2 \\\\\n",
      "Thomas & 9.176191886289606 \\\\\n",
      "Jill & 9.045096056622851 \\\\\n",
      "Mitch & 8.8 \\\\\n",
      "Nathan & 8.758374011109241 \\\\\n",
      "Walter & 8.532754880694144 \\\\\n",
      "Sally & 8.40952380952381 \\\\\n",
      "Alex & 8.269116775340843 \\\\\n",
      "Nancy & 8.20948960713897 \\\\\n",
      "Kylie & 8.142857142857142 \\\\\n",
      "Jacob & 8.060880195599022 \\\\\n",
      "Annie & 8.057856465380967 \\\\\n",
      "Nina & 8.027397260273972 \\\\\n",
      "Jack & 7.870967741935484 \\\\\n",
      "Bob & 7.85 \\\\\n",
      "Chris & 7.84 \\\\\n",
      "Ethan & 7.81063321385902 \\\\\n",
      "Isaac & 7.620658949243099 \\\\\n",
      "Trey & 7.522760646108663 \\\\\n",
      "Simon & 7.435726210350584 \\\\\n",
      "Zo & 7.3 \\\\\n",
      "Alan & 6.833333333333333 \\\\\n",
      "\n",
      "length: 25\n"
     ]
    }
   ],
   "source": [
    "# print latex table style and sorted\n",
    "for key_value_pair in sorted(average_depth.items(),\n",
    "           key=lambda k_v: k_v[1],\n",
    "           reverse=True):\n",
    "        \n",
    "        user = key_value_pair[0]\n",
    "        average = key_value_pair[1]\n",
    "        \n",
    "        print(fake_name[user] + \" & \" + str(average) + \" \\\\\" + \"\\\\\")\n",
    "        #save_results.write(fake_name[user] + \"\\t\" + str(average) + \"\\n\")\n",
    "\n",
    "print(\"\\nlength: \" + str(len(average_depth)))"
   ]
  },
  {
   "cell_type": "code",
   "execution_count": 36,
   "metadata": {},
   "outputs": [
    {
     "data": {
      "text/plain": [
       "'Jamie Mayson'"
      ]
     },
     "execution_count": 36,
     "metadata": {},
     "output_type": "execute_result"
    }
   ],
   "source": [
    "id_to_name['21235741']"
   ]
  },
  {
   "cell_type": "code",
   "execution_count": 41,
   "metadata": {},
   "outputs": [
    {
     "name": "stdout",
     "output_type": "stream",
     "text": [
      "Peter's real name is Paul List\n",
      "Jason's real name is James Coman\n",
      "Patrick's real name is Peter Tran\n",
      "Anna's real name is Aspasia\n",
      "Tom's real name is test\n",
      "Trey's real name is Tyler\n"
     ]
    }
   ],
   "source": [
    "fakenames = [\"Peter\", \"Jason\", \"Patrick\", \"Anna\", \"Tom\", \"Trey\"]\n",
    "for name in fakenames:\n",
    "    idnum = list(fake_name.keys())[list(fake_name.values()).index(name)]\n",
    "    print(name + \"'s real name is \" + id_to_name[idnum])\n",
    "#print(fake_name['21235741'])"
   ]
  },
  {
   "cell_type": "code",
   "execution_count": null,
   "metadata": {},
   "outputs": [],
   "source": []
  }
 ],
 "metadata": {
  "kernelspec": {
   "display_name": "Python 3",
   "language": "python",
   "name": "python3"
  },
  "language_info": {
   "codemirror_mode": {
    "name": "ipython",
    "version": 3
   },
   "file_extension": ".py",
   "mimetype": "text/x-python",
   "name": "python",
   "nbconvert_exporter": "python",
   "pygments_lexer": "ipython3",
   "version": "3.7.0"
  }
 },
 "nbformat": 4,
 "nbformat_minor": 2
}
