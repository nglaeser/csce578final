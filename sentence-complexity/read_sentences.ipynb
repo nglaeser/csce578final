{
 "cells": [
  {
   "cell_type": "code",
   "execution_count": 2,
   "metadata": {},
   "outputs": [],
   "source": [
    "#!/usr/bin/env python\n",
    "# coding: utf-8\n",
    "\n",
    "import json\n",
    "from pprint import pprint\n",
    "from datetime import datetime\n",
    "import math\n",
    "import re\n",
    "\n",
    "from collections import defaultdict\n",
    "import numpy as np"
   ]
  },
  {
   "cell_type": "code",
   "execution_count": 3,
   "metadata": {},
   "outputs": [],
   "source": [
    "punctlist = ['.', '!', '?', ',', ';', ':', '\"', \"'\", '(', ')', '--', '-', '...', '/', '\\'', '@',\n",
    "            '&', '>', '<', '=', '’', '^', '…', '_']\n",
    "\n",
    "#sent_split = \". \", \"? \", \"! \"\n",
    "#regexPattern = '|'.join(map(re.escape, sent_split))\n",
    "\n",
    "stopwords = set(line.strip() for line in open('../stopwords.txt'))\n",
    "stopwords.update(['www', 'http', 'https', 'com'])"
   ]
  },
  {
   "cell_type": "code",
   "execution_count": 30,
   "metadata": {},
   "outputs": [],
   "source": [
    "with open('transcript-15528094.json') as f:\n",
    "    data = json.load(f)\n",
    "\n",
    "id_to_name = defaultdict(str)\n",
    "doc_sentences = defaultdict(lambda: []) # each document has a dict of sentences\n",
    "\n",
    "\n",
    "for item in data:\n",
    "    if item['text'] != None: \n",
    "        #pr = False\n",
    "        #if \"@Salt based on\" in item['text']:\n",
    "            #pr = True\n",
    "            #print(item)\n",
    "        \n",
    "        user_id = item['user_id']\n",
    "        message = item['text']\n",
    "        \n",
    "        # ignore system and calendar messages\n",
    "        if user_id == 'system' or user_id == 'calendar':\n",
    "            continue\n",
    "        \n",
    "        # Split message by possible newlines\n",
    "        sents = message.split('\\n')\n",
    "        \n",
    "        # separate message (or line) into sentences\n",
    "        sents = [item for s in sents for item in re.split('(?<=[.!?]) +',s)]\n",
    "        # regex from https://stackoverflow.com/questions/14622835/split-string-on-or-keeping-the-punctuation-mark\n",
    "        \n",
    "        for sentence in sents:\n",
    "            if len(sentence) == 0:\n",
    "                # skip any empty sentences\n",
    "                continue\n",
    "            doc_sentences[user_id].append(sentence)\n",
    "        \n",
    "        # potentially add user to id_to_name dict\n",
    "        if user_id not in id_to_name:\n",
    "            id_to_name[user_id] = item['name']\n",
    "        \n",
    "        #print(\"%s: %s\" % (item['name'], item['text']))"
   ]
  },
  {
   "cell_type": "code",
   "execution_count": 31,
   "metadata": {},
   "outputs": [
    {
     "name": "stdout",
     "output_type": "stream",
     "text": [
      "['Mani-tees', \"@Salt based on what I'm seeing, you have a decent handle on puns.\", \"Please don't be salty when I issue your certificate of defeat.\", 'They call me the pun-isher.', \"@Salt I'm sorry.\", 'That pun was a-Paul-ling.', '@Lizz Naturally.', 'I just get to enjoy both meeting you and hearing about beating you this way  ', '*beatif', \"I'm new here so I don't know what Wednesday is, but just pretend it's whatever day this belongs on\", '@Jamie Mayson Thanks for the schedule', '@Angela : \"I thought when i asked you would have subconsciously looked.\"', 'Me: \"sorry I don\\'t go around looking at other girls boobs for you.\"', '@Angela : \"well I go around looking at other guys dicks for you soo...\"', \"@Eric Baxley with a spread like that, I'll be there in an hour and forty.\", 'Happy birthday!', 'But why?', '@Matthew Clapp Thank you!!', '@Jamie Mayson Kill Bill', '@Jamie Mayson Jk.']\n"
     ]
    }
   ],
   "source": [
    "# todo: some sentences end with punctuation, some don't, this may be a problem\n",
    "print(doc_sentences['10820250'][:20])"
   ]
  },
  {
   "cell_type": "code",
   "execution_count": 34,
   "metadata": {},
   "outputs": [],
   "source": [
    "# print each user's sentences to a different file\n",
    "# each sentence on a new line\n",
    "for user in doc_sentences:\n",
    "    filename = str(user) + '_sentences.txt'\n",
    "    outfile = open(filename, \"w\")\n",
    "    \n",
    "    sentences = doc_sentences[user]\n",
    "    for sentence in sentences:\n",
    "        outfile.write(sentence + \"\\n\")\n",
    "    outfile.close()"
   ]
  },
  {
   "cell_type": "code",
   "execution_count": null,
   "metadata": {},
   "outputs": [],
   "source": []
  }
 ],
 "metadata": {
  "kernelspec": {
   "display_name": "Python 3",
   "language": "python",
   "name": "python3"
  },
  "language_info": {
   "codemirror_mode": {
    "name": "ipython",
    "version": 3
   },
   "file_extension": ".py",
   "mimetype": "text/x-python",
   "name": "python",
   "nbconvert_exporter": "python",
   "pygments_lexer": "ipython3",
   "version": "3.7.0"
  }
 },
 "nbformat": 4,
 "nbformat_minor": 2
}
